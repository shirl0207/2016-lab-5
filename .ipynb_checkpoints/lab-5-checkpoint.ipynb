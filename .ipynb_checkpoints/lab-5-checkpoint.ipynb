{
 "cells": [
  {
   "cell_type": "markdown",
   "metadata": {
    "nbpresent": {
     "id": "50a40f10-f4b6-4dd3-b7aa-c63ed3ca3244"
    },
    "slideshow": {
     "slide_type": "slide"
    }
   },
   "source": [
    "# Introduction to Data Science - Lab 5\n",
    "*CS 5963 / MATH 3900, University of Utah, http://datasciencecourse.net/*"
   ]
  },
  {
   "cell_type": "markdown",
   "metadata": {},
   "source": [
    "### Guest Lecturer \n",
    "Shirley Zhao  \n",
    "Data Science Librarian  \n",
    "Spencer S. Eccles Health Sciences Library  \n",
    "[shirley.zhao@utah.edu](mailto:shirley.zhao@utah.edu?subject=Python dataviz question)  \n",
    "[@zhao_shirley](https://twitter.com/zhao_shirley)"
   ]
  },
  {
   "cell_type": "markdown",
   "metadata": {},
   "source": [
    "## Learning Objectives\n",
    "By the end of this lab, you will be able to\n",
    "* explain basic data visualization principles;\n",
    "* choose plot types appropriate to your visualization objective;\n",
    "* and use *ggplot* to enhance plot presentation. "
   ]
  },
  {
   "cell_type": "markdown",
   "metadata": {},
   "source": [
    "---\n",
    "# Why Data Visualization\n",
    "\n",
    "Here are some reasons: \n",
    "* tell stories with data\n",
    "* understand patterns in data \"noise\"\n",
    "* discover outliers \n",
    "* provide a high level overview\n",
    "\n",
    "What are some other reasons? "
   ]
  },
  {
   "cell_type": "markdown",
   "metadata": {},
   "source": [
    "---\n",
    "# Basic Data Visualization Principles\n",
    "*Acknowledgements: Parts of this section are adapted from presentations by Lisa Federer (NIH) and Helen Bailey (MIT) and this [lifehacker article](http://lifehacker.com/5909501/how-to-choose-the-best-chart-for-your-data).*\n",
    "\n",
    "Let's first critique this graphic.\n",
    "\n",
    "![nbc_bar_chart](http://65.media.tumblr.com/1aafa5ea09a50e7ee2f31bc874a7f209/tumblr_obyucjB3Vm1sgh0voo1_1280.jpg)\n",
    "From http://viz.wtf/post/149087683644/fox-news-finally-has-some-competition\n",
    "\n",
    "## A quote from Ben Fry in his book \"Visualizing Data\"\n",
    "<font color='green'>“Visualizing data is just like any other type of communication: success is defined by your audience’s ability to pick up on, and be excited about, your insight.” </font>\n",
    "\n",
    "## Getting Started\n",
    "**What is your message?** What are you trying to convey about the data (relationship, comparison, composition, distribution)? \n",
    "\n",
    "![chart_chooser](https://c3.staticflickr.com/4/3077/3196386402_01d8d12017_b.jpg)\n",
    "From https://flic.kr/p/5Ssjjo\n",
    "\n",
    "If your data includes geographical data, another chart type to consider is geospatial ([example](http://www.ospo.noaa.gov/Products/ocean/sst/contour/)). \n",
    "\n",
    "## Design Elements \n",
    "* **Line**: passage of time ([example](http://www.nytimes.com/interactive/2015/06/04/us/politics/stacking-up-the-presidential-fields.html)), relationships ([example](https://www.popchartlab.com/products/the-magnificent-multitude-of-beer))\n",
    "* **Shape**: abstraction ([example](https://www.behance.net/gallery/23043539/Dog-Breeds)), symbols as categories ([example](http://www.informationisbeautiful.net/visualizations/best-in-show-whats-the-top-data-dog/))\n",
    "* **Value** (amount of black): emphasis ([example](http://visual.ly/light-dark-places)), mood ([example](http://infogr8.com/infographics/mills-boon-summer-reading/))\n",
    "* **Color**: mood ([example 1](http://www.carlyjamison.com/2012/08/05/color-theory-wheel/), [example 2](http://www.informationisbeautiful.net/visualizations/colours-in-cultures/)), schemes and palettes ([ColorBrewer](http://colorbrewer2.org/)), accessibility ([Vischeck](http://www.vischeck.com/vischeck/))\n",
    "* **Texture**: difference ([example](http://apps.washingtonpost.com/f/beards/))\n",
    "* **Typography**: serif vs san serif ([example](https://superdevresources.com/making-font-combinations-that-work-infographics/))\n",
    "\n",
    "![viz_prop_table](http://complexdiagrams.com/wp-content/2012/01/VisualPropertiesTable2.gif)\n",
    "From http://complexdiagrams.com/properties\n",
    "\n",
    "## Design Principles\n",
    "* **Unity** ([example](http://news.nationalpost.com/news/graphics/graphic-stopping-the-dead-a-statistical-look-back-at-the-walking-dead-series-so-far))\n",
    "* **Balance**: symmetrical ([example](http://flowingdata.com/2011/02/07/annual-feltron-report-is-up-this-time-with-dad/)) vs asymmetrical ([example](https://www.visualnews.com/2011/04/29/are-all-size-8s-the-same-dress-sizes-demystified/))\n",
    "* **Heirarchy** ([example](http://flowingdata.com/2009/10/20/how-much-do-ceos-make-in-the-united-states/))\n",
    "* **Repetition** ([example 1](http://www.nytimes.com/interactive/2015/09/14/world/middleeast/syria-war-deaths.html), [example 2](http://www.juiceanalytics.com/writing/better-know-visualization-small-multiples))\n",
    "* **Proximity** ([example](http://zoom.it/l3dq))\n",
    "\n",
    "See also **[Gestalt Principles](http://graphicdesign.spokanefalls.edu/tutorials/process/gestaltprinciples/gestaltprinc.htm)**: similarity, continuation, closure, proximity, figure & ground\n",
    "\n",
    "## Design Practices\n",
    "* Be consistent\n",
    "* Scale & label axes correctly\n",
    "* Keep it simple\n",
    "* Present complete & accurate information\n",
    "* Provide metadata & provenance\n",
    "* Think reproducibility! "
   ]
  },
  {
   "cell_type": "markdown",
   "metadata": {},
   "source": [
    "---\n",
    "# Break for Questions? "
   ]
  },
  {
   "cell_type": "markdown",
   "metadata": {},
   "source": [
    "---\n",
    "# About *ggplot*\n",
    "Visit the [developers' github](https://github.com/yhat/ggplot) for current information about the *ggplot* package.\n",
    "\n",
    "*ggplot* is a Python implementation of The Grammar of Graphics ([eBook available through the Libraries](http://link.springer.com.ezproxy.lib.utah.edu/book/10.1007%2F0-387-28695-0)) and R's [ggplot2](http://ggplot2.org/) package. You may also find it helpful to read Hadley Wickham's [A Layered Grammer of Graphics](http://www.jstor.org.ezproxy.lib.utah.edu/stable/25651297) to understand the motivation behind the R ggplot2 package. "
   ]
  },
  {
   "cell_type": "markdown",
   "metadata": {},
   "source": [
    "## Installation\n",
    "Copy and paste or type the following line in your Anaconda Prompt: ``` conda install -c conda-forge ggplot```"
   ]
  },
  {
   "cell_type": "markdown",
   "metadata": {},
   "source": [
    "## Reading in Data\n",
    "*ggplot* is designed to work well with pandas DataFrames. Let's load it and read in the CSV file from last week: [hit_albums.csv](hit_albums.csv)."
   ]
  },
  {
   "cell_type": "code",
   "execution_count": 1,
   "metadata": {
    "collapsed": false,
    "scrolled": true
   },
   "outputs": [
    {
     "data": {
      "text/html": [
       "<div>\n",
       "<table border=\"1\" class=\"dataframe\">\n",
       "  <thead>\n",
       "    <tr style=\"text-align: right;\">\n",
       "      <th></th>\n",
       "      <th>Artist</th>\n",
       "      <th>Album</th>\n",
       "      <th>Released</th>\n",
       "      <th>Genre</th>\n",
       "      <th>Certified sales (millions)</th>\n",
       "      <th>Claimed sales (millions)</th>\n",
       "    </tr>\n",
       "  </thead>\n",
       "  <tbody>\n",
       "    <tr>\n",
       "      <th>0</th>\n",
       "      <td>Michael Jackson</td>\n",
       "      <td>Thriller</td>\n",
       "      <td>1982</td>\n",
       "      <td>Pop, rock, R&amp;B</td>\n",
       "      <td>45.4</td>\n",
       "      <td>65.0</td>\n",
       "    </tr>\n",
       "    <tr>\n",
       "      <th>1</th>\n",
       "      <td>AC/DC</td>\n",
       "      <td>Back in Black</td>\n",
       "      <td>1980</td>\n",
       "      <td>Hard rock</td>\n",
       "      <td>25.9</td>\n",
       "      <td>50.0</td>\n",
       "    </tr>\n",
       "    <tr>\n",
       "      <th>2</th>\n",
       "      <td>Pink Floyd</td>\n",
       "      <td>The Dark Side of the Moon</td>\n",
       "      <td>1973</td>\n",
       "      <td>Progressive rock</td>\n",
       "      <td>22.7</td>\n",
       "      <td>45.0</td>\n",
       "    </tr>\n",
       "    <tr>\n",
       "      <th>3</th>\n",
       "      <td>Whitney Houston / Various artists</td>\n",
       "      <td>The Bodyguard</td>\n",
       "      <td>1992</td>\n",
       "      <td>Soundtrack/R&amp;B, soul, pop</td>\n",
       "      <td>27.4</td>\n",
       "      <td>44.0</td>\n",
       "    </tr>\n",
       "    <tr>\n",
       "      <th>4</th>\n",
       "      <td>Meat Loaf</td>\n",
       "      <td>Bat Out of Hell</td>\n",
       "      <td>1977</td>\n",
       "      <td>Hard rock, progressive rock</td>\n",
       "      <td>20.6</td>\n",
       "      <td>43.0</td>\n",
       "    </tr>\n",
       "    <tr>\n",
       "      <th>5</th>\n",
       "      <td>Eagles</td>\n",
       "      <td>Their Greatest Hits (1971–1975)</td>\n",
       "      <td>1976</td>\n",
       "      <td>Rock, soft rock, folk rock</td>\n",
       "      <td>32.2</td>\n",
       "      <td>42.0</td>\n",
       "    </tr>\n",
       "    <tr>\n",
       "      <th>6</th>\n",
       "      <td>Bee Gees / Various artists</td>\n",
       "      <td>Saturday Night Fever</td>\n",
       "      <td>1977</td>\n",
       "      <td>Disco</td>\n",
       "      <td>19.0</td>\n",
       "      <td>40.0</td>\n",
       "    </tr>\n",
       "    <tr>\n",
       "      <th>7</th>\n",
       "      <td>Fleetwood Mac</td>\n",
       "      <td>Rumours</td>\n",
       "      <td>1977</td>\n",
       "      <td>Soft rock</td>\n",
       "      <td>27.9</td>\n",
       "      <td>40.0</td>\n",
       "    </tr>\n",
       "  </tbody>\n",
       "</table>\n",
       "</div>"
      ],
      "text/plain": [
       "                              Artist                            Album  \\\n",
       "0                    Michael Jackson                         Thriller   \n",
       "1                              AC/DC                    Back in Black   \n",
       "2                         Pink Floyd        The Dark Side of the Moon   \n",
       "3  Whitney Houston / Various artists                    The Bodyguard   \n",
       "4                          Meat Loaf                  Bat Out of Hell   \n",
       "5                             Eagles  Their Greatest Hits (1971–1975)   \n",
       "6         Bee Gees / Various artists             Saturday Night Fever   \n",
       "7                      Fleetwood Mac                          Rumours   \n",
       "\n",
       "   Released                        Genre  Certified sales (millions)  \\\n",
       "0      1982               Pop, rock, R&B                        45.4   \n",
       "1      1980                    Hard rock                        25.9   \n",
       "2      1973             Progressive rock                        22.7   \n",
       "3      1992    Soundtrack/R&B, soul, pop                        27.4   \n",
       "4      1977  Hard rock, progressive rock                        20.6   \n",
       "5      1976   Rock, soft rock, folk rock                        32.2   \n",
       "6      1977                        Disco                        19.0   \n",
       "7      1977                    Soft rock                        27.9   \n",
       "\n",
       "   Claimed sales (millions)  \n",
       "0                      65.0  \n",
       "1                      50.0  \n",
       "2                      45.0  \n",
       "3                      44.0  \n",
       "4                      43.0  \n",
       "5                      42.0  \n",
       "6                      40.0  \n",
       "7                      40.0  "
      ]
     },
     "execution_count": 1,
     "metadata": {},
     "output_type": "execute_result"
    }
   ],
   "source": [
    "import pandas as pd\n",
    "hit_albums = pd.read_csv(\"hit_albums.csv\")\n",
    "hit_albums.head(8)"
   ]
  },
  {
   "cell_type": "markdown",
   "metadata": {},
   "source": [
    "### Slicing and Creating new DataFrames"
   ]
  },
  {
   "cell_type": "code",
   "execution_count": 2,
   "metadata": {
    "collapsed": false
   },
   "outputs": [
    {
     "data": {
      "text/html": [
       "<div>\n",
       "<table border=\"1\" class=\"dataframe\">\n",
       "  <thead>\n",
       "    <tr style=\"text-align: right;\">\n",
       "      <th></th>\n",
       "      <th>Artist</th>\n",
       "      <th>Certified sales (millions)</th>\n",
       "    </tr>\n",
       "  </thead>\n",
       "  <tbody>\n",
       "    <tr>\n",
       "      <th>33</th>\n",
       "      <td>Michael Jackson</td>\n",
       "      <td>123.3</td>\n",
       "    </tr>\n",
       "    <tr>\n",
       "      <th>43</th>\n",
       "      <td>Shania Twain</td>\n",
       "      <td>69.6</td>\n",
       "    </tr>\n",
       "    <tr>\n",
       "      <th>29</th>\n",
       "      <td>Madonna</td>\n",
       "      <td>69.4</td>\n",
       "    </tr>\n",
       "    <tr>\n",
       "      <th>53</th>\n",
       "      <td>Various artists</td>\n",
       "      <td>65.9</td>\n",
       "    </tr>\n",
       "    <tr>\n",
       "      <th>18</th>\n",
       "      <td>Eagles</td>\n",
       "      <td>53.7</td>\n",
       "    </tr>\n",
       "  </tbody>\n",
       "</table>\n",
       "</div>"
      ],
      "text/plain": [
       "             Artist  Certified sales (millions)\n",
       "33  Michael Jackson                       123.3\n",
       "43     Shania Twain                        69.6\n",
       "29          Madonna                        69.4\n",
       "53  Various artists                        65.9\n",
       "18           Eagles                        53.7"
      ]
     },
     "execution_count": 2,
     "metadata": {},
     "output_type": "execute_result"
    }
   ],
   "source": [
    "# first we create a new slice of the dataset\n",
    "artists_sales = hit_albums[[\"Artist\",\"Certified sales (millions)\"]]\n",
    "# then we group by Artist, then sum the values up\n",
    "# as_index is set to False to prevent group labels from returning as the index; we will need this for plotting.\n",
    "aggregated = artists_sales.groupby(\"Artist\", as_index=False).sum()\n",
    "top_aggregated = aggregated.sort_values(\"Certified sales (millions)\", ascending=False).head(5)\n",
    "top_aggregated.head()"
   ]
  },
  {
   "cell_type": "markdown",
   "metadata": {},
   "source": [
    "## Built-in Plotting (from last week)\n",
    "\n",
    "Recall DataFrames have built-in plotting capabilities based on the [matplotlib](http://matplotlib.org/) library. Let's have a look at where you left off last week. First, we have to import the *matplotlib* library, and tell Jupyter to display the images directly here:"
   ]
  },
  {
   "cell_type": "code",
   "execution_count": 3,
   "metadata": {
    "collapsed": true
   },
   "outputs": [],
   "source": [
    "%matplotlib inline\n",
    "import matplotlib.pyplot as plt"
   ]
  },
  {
   "cell_type": "code",
   "execution_count": 4,
   "metadata": {
    "collapsed": false
   },
   "outputs": [
    {
     "data": {
      "text/plain": [
       "<matplotlib.axes._subplots.AxesSubplot at 0x9b1a0b8>"
      ]
     },
     "execution_count": 4,
     "metadata": {},
     "output_type": "execute_result"
    },
    {
     "data": {
      "image/png": "[encoded data removed]",
      "text/plain": [
       "<matplotlib.figure.Figure at 0x9b0c5c0>"
      ]
     },
     "metadata": {},
     "output_type": "display_data"
    }
   ],
   "source": [
    "hit_albums[[\"Certified sales (millions)\", \"Claimed sales (millions)\"]].plot()"
   ]
  },
  {
   "cell_type": "code",
   "execution_count": 5,
   "metadata": {
    "collapsed": false
   },
   "outputs": [
    {
     "data": {
      "text/plain": [
       "<matplotlib.axes._subplots.AxesSubplot at 0x9ba8ba8>"
      ]
     },
     "execution_count": 5,
     "metadata": {},
     "output_type": "execute_result"
    },
    {
     "data": {
      "image/png": "[encoded data removed]",
      "text/plain": [
       "<matplotlib.figure.Figure at 0x9baa5f8>"
      ]
     },
     "metadata": {},
     "output_type": "display_data"
    }
   ],
   "source": [
    "hit_albums[[\"Certified sales (millions)\", \"Claimed sales (millions)\"]].plot(kind=\"bar\")"
   ]
  },
  {
   "cell_type": "markdown",
   "metadata": {},
   "source": [
    "## Plotting with *ggplot*\n",
    "Now let's import *ggplot*. We will use the syntax  ```  from X import *   ``` to import all names from X and save on typing. In general using this syntax is frowned upon (see [section 6.1](https://docs.python.org/3/tutorial/modules.html) in the documentation for more details). "
   ]
  },
  {
   "cell_type": "code",
   "execution_count": 6,
   "metadata": {
    "collapsed": false
   },
   "outputs": [],
   "source": [
    "from ggplot import *"
   ]
  },
  {
   "cell_type": "markdown",
   "metadata": {},
   "source": [
    "A basic **ggplot** consists of \n",
    "\n",
    "- **data** (as a data frame)\n",
    "- **aes**thetics (how data is represented visually) with x, y, color, size, shape, etc.\n",
    "- **geom**etric object such as points, lines, histogram, boxplot, etc.\n",
    "\n",
    "and optional modifications (e.g. **theme**). "
   ]
  },
  {
   "cell_type": "code",
   "execution_count": 7,
   "metadata": {
    "collapsed": false
   },
   "outputs": [
    {
     "data": {
      "image/png": "[encoded data removed]",
      "text/plain": [
       "<matplotlib.figure.Figure at 0xc67c128>"
      ]
     },
     "metadata": {},
     "output_type": "display_data"
    },
    {
     "data": {
      "text/plain": [
       "<ggplot: (-9223372036841770275)>"
      ]
     },
     "execution_count": 7,
     "metadata": {},
     "output_type": "execute_result"
    }
   ],
   "source": [
    "ggplot(hit_albums, aes(x=\"Certified sales (millions)\", y=\"Claimed sales (millions)\")) + geom_point()"
   ]
  },
  {
   "cell_type": "code",
   "execution_count": 8,
   "metadata": {
    "collapsed": false
   },
   "outputs": [
    {
     "data": {
      "image/png": "[encoded data removed]",
      "text/plain": [
       "<matplotlib.figure.Figure at 0xc6c5710>"
      ]
     },
     "metadata": {},
     "output_type": "display_data"
    },
    {
     "data": {
      "text/plain": [
       "<ggplot: (-9223372036841746232)>"
      ]
     },
     "execution_count": 8,
     "metadata": {},
     "output_type": "execute_result"
    }
   ],
   "source": [
    "p = ggplot(top_aggregated, aes(x=\"Artist\", weight=\"Certified sales (millions)\")) + geom_bar()\n",
    "p #+ theme(axis_text_x=element_text(angle=45))"
   ]
  },
  {
   "cell_type": "markdown",
   "metadata": {},
   "source": [
    "## Exercise\n",
    "Create new DataFrames and plot that data using *ggplot*.\n",
    "* Plot the aggregate sum of all certified sales for each year.\n",
    "* Find artists with exactly 3 hit albums and for each artist, plot his/her album's release date against its certified sales. "
   ]
  },
  {
   "cell_type": "markdown",
   "metadata": {
    "collapsed": true
   },
   "source": [
    "---\n",
    "# Further Exploration into Data Visualization\n",
    "**Books**\n",
    "* Börner, Katy and Polley, David E. (2014). Visual Insights: A Practical Guide to Making Sense of Data. [eBook available](http://site.ebrary.com.ezproxy.lib.utah.edu/lib/utah/reader.action?docID=10829849).\n",
    "* Cairo, Alberto (2013). The Functional Art: An Introduction to Information Graphics and Visualization.\n",
    "* Steele, Julie & Iliinsky, Noah (2010). Beautiful Visualization: Looking at Data through the Eyes of Experts.\n",
    "* Tufte, Edward \n",
    "    - (1983). The Visual Display of Quantitative Information.\n",
    "    - (1990). Envisioning Information.\n",
    "    - (1997). Visual Explanations: Images and Quantities, Evidence and Narrative.\n",
    "    - (2006). Beautiful Evidence. \n",
    "* Wong, Dona (2014). The Wall Street Journal Guide to Information Graphics: The Dos and Don'ts of Presenting Data, Facts, and Figures. \n",
    "\n",
    "\n",
    "**Links**\n",
    "* [10 Useful Python Data Visualization Libraries for Any Discipline](https://blog.modeanalytics.com/python-data-visualization-libraries/) \n",
    "* [Choose the Right Chart Type for Your Data diagram](http://www.labnol.org/software/findright-chart-type-for-your-data/6523/)\n",
    "* [ColorBrewer 2.0](http://colorbrewer2.org/)\n",
    "* [ColorLab Colorblindness Simulator](http://colorlab.wickline.org/colorblind/colorlab/)\n",
    "* [I Want Hue color palette generator](http://tools.medialab.sciences-po.fr/iwanthue/)\n",
    "* [The Functional Art](http://www.thefunctionalart.com/)\n",
    "* [Junk Charts](http://junkcharts.typepad.com/junk_charts/)\n",
    "\n",
    "**Local Group**\n",
    "* [Salt Lake City Data Science Meetup](http://www.meetup.com/Salt-Lake-City-Data-Science/)"
   ]
  }
 ],
 "metadata": {
  "anaconda-cloud": {},
  "kernelspec": {
   "display_name": "Python 3",
   "language": "python",
   "name": "python3"
  },
  "language_info": {
   "codemirror_mode": {
    "name": "ipython",
    "version": 3
   },
   "file_extension": ".py",
   "mimetype": "text/x-python",
   "name": "python",
   "nbconvert_exporter": "python",
   "pygments_lexer": "ipython3",
   "version": "3.5.2"
  },
  "nbpresent": {
   "slides": {
    "19a6495f-8346-4b23-a98a-c7115941e8f0": {
     "id": "19a6495f-8346-4b23-a98a-c7115941e8f0",
     "prev": null,
     "regions": {
      "d6523b36-7204-4001-8a6c-37c431b18d26": {
       "attrs": {
        "height": 1,
        "width": 1,
        "x": 0,
        "y": 0
       },
       "id": "d6523b36-7204-4001-8a6c-37c431b18d26"
      }
     }
    }
   },
   "themes": {}
  }
 },
 "nbformat": 4,
 "nbformat_minor": 0
}
